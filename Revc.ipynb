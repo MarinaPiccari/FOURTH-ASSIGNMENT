{
 "cells": [
  {
   "cell_type": "markdown",
   "metadata": {},
   "source": [
    "## Revc\n",
    "##### Marina Piccari\n",
    "#### 1904900"
   ]
  },
  {
   "cell_type": "code",
   "execution_count": 19,
   "metadata": {},
   "outputs": [
    {
     "name": "stdout",
     "output_type": "stream",
     "text": [
      "TGAGATCAAGTATTTCTTGCCATCTTCCAGGTTGTCGGGAGATGGTCGCCGCCGCGCGCAGTGAACGACAACTCATTAGCCGAGGTGTACTCTATCGGTACTCTCTTTTGCAGAGTTATCCGGCGCGTCAACACATATGGCCAACGATGCTCTATACTTAGATCTCTTCAAGAGCTATAACGTCGTCCGTTATGATTAATAGTGTAGCGCAAGAATTGGTGTGTACCTCAAGTGAAGAATTAAAAGAACCGCTATAGTAGATGTTACGGTAGGGATCAATAAAACTTGGCAGGCTACTCGGCGGGGGACGGATATATCCAGAAGAAGGCATAGATTCTTTATAGCTGCGCGAAAGTCCAGGTTAATGTCATGCTTGCCTTGTCGTTTTTCATGGACACAAGCTACTCGCGCCTTTCGAAAGAGCGGGGATCTGGAGCGTCTTTAACCACAAGCCTCCGTACGTCCAATTCCATCTCTCTCTCACGACGATATATGCACGCTCTCCAATGCTGTGTATACTTAATATACTTACACAGCTCCTCTATCAATCTAGCCAGGCCTTAAGGCCATGATTTGGCATGAAAATGGTATGTCAACCAATCGCTGTTATCATAGGAAACGGGCCGAGCCTGATTTTCTTCCAAGGAGTTAATCTTACTACTACGCCCACGTGTTCTGAGGGGCCGACGTCAGTAGATGGTACTGCAAGCATTGGGCCTACCGATACACCACCTTTCGACCCCGTTCTTTGCGCTCGGTTCGAACATCGGTAGGGAAGGCATATTGTATGGTCACTTCGGGTGTGCGCCGCGTATCCCGATCATGTGCCCTCCGTGTACCAATATTACGATGCTTCGCAAACGCGCTACCGAAACCTGCTTCTTACCAATATAGCCTGAACGCCCACGGCAACCAGAGTAGTCCTTAAGCAAATGGCCGTGATGTGTTCCTCAACAAACCTAGC\n"
     ]
    }
   ],
   "source": [
    "with open ('rosalind_revc.txt', 'r') as f:\n",
    "    s = list(f.readline())\n",
    "    revs = s[::-1]\n",
    "    revc = []\n",
    "    for x in range(len(revs)):\n",
    "        if revs[x] == 'T':\n",
    "            revc.append('A')\n",
    "        elif revs[x] == 'A':\n",
    "            revc.append('T')\n",
    "        elif revs[x] == 'C':\n",
    "            revc.append('G')\n",
    "        else:\n",
    "            revc.append('C')\n",
    "    print (''.join(revc))\n",
    "            "
   ]
  }
 ],
 "metadata": {
  "kernelspec": {
   "display_name": "Python 3",
   "language": "python",
   "name": "python3"
  },
  "language_info": {
   "codemirror_mode": {
    "name": "ipython",
    "version": 3
   },
   "file_extension": ".py",
   "mimetype": "text/x-python",
   "name": "python",
   "nbconvert_exporter": "python",
   "pygments_lexer": "ipython3",
   "version": "3.8.3"
  }
 },
 "nbformat": 4,
 "nbformat_minor": 4
}
