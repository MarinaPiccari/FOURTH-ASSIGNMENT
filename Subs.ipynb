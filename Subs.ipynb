{
 "cells": [
  {
   "cell_type": "markdown",
   "metadata": {},
   "source": [
    "## Subs\n",
    "##### Marina Piccari\n",
    "#### 1904900"
   ]
  },
  {
   "cell_type": "code",
   "execution_count": 22,
   "metadata": {},
   "outputs": [
    {
     "name": "stdout",
     "output_type": "stream",
     "text": [
      "12 30 66 102 118 146 162 171 178 297 364 445 495 544 594 609 634 653 679 710 733 740 784 791 814 855 884 928 953\n"
     ]
    }
   ],
   "source": [
    "with open ('rosalind_subs.txt', 'r') as f:\n",
    "    s = list(f.readline())\n",
    "    t = list(f.readline())\n",
    "    n = len(t)\n",
    "    L = []\n",
    "    for i in range(len(s)):\n",
    "        if s[i:i+n] == t:\n",
    "            L.append(i+1)\n",
    "    print (*L)"
   ]
  }
 ],
 "metadata": {
  "kernelspec": {
   "display_name": "Python 3",
   "language": "python",
   "name": "python3"
  },
  "language_info": {
   "codemirror_mode": {
    "name": "ipython",
    "version": 3
   },
   "file_extension": ".py",
   "mimetype": "text/x-python",
   "name": "python",
   "nbconvert_exporter": "python",
   "pygments_lexer": "ipython3",
   "version": "3.8.3"
  }
 },
 "nbformat": 4,
 "nbformat_minor": 4
}
