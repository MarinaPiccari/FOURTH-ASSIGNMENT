{
 "cells": [
  {
   "cell_type": "markdown",
   "metadata": {},
   "source": [
    "## RNA Splicing\n",
    "##### Marina Piccari\n",
    "#### 1904900"
   ]
  },
  {
   "cell_type": "code",
   "execution_count": 42,
   "metadata": {},
   "outputs": [
    {
     "name": "stdout",
     "output_type": "stream",
     "text": [
      "MFLGGLIMAKDSRFTIGWGPSIGSAECYDTSRPLTIAPYYDMGPRTVYSGGSMTSEFFQVGSSRLGSELQNLCFAWSGLEVVEYCHWTIRRTTNLINIPLSYRAHYSYSCRILDNNPRGQKAMTALTLVVLHAASRLAVRSRSPALNKSIPAVLPSIVVNQ\n"
     ]
    }
   ],
   "source": [
    "import re\n",
    "    \n",
    "def remove_introns(string, lst):\n",
    "    for x in lst:\n",
    "        string = string.replace(x, '')\n",
    "    return string\n",
    "\n",
    "def find_prot(string):      \n",
    "    L = re.findall('...', string)\n",
    "    gc = {'UUU':'F', 'UUC':'F', 'UUA':'L', 'UUG':'L', 'CUU':'L', 'CUA':'L', 'CUC':'L', 'CUG':'L', 'UAU':'Y', 'UAC':'Y', 'UGU':'C', 'UGC':'C', 'UGG':'W', 'CCA':'P', 'CCC':'P', 'CCG':'P', 'CCU':'P', 'CAU':'H', 'CAC':'H', 'CAA':'Q', 'CAG':'Q', 'AUC':'I', 'AUU':'I', 'AUA':'I', 'AUG':'M', 'ACA':'T', 'ACC':'T', 'ACU':'T', 'ACG':'T', 'AAU' :'N', 'AAC':'N', 'AAA':'K', 'AAG':'K', 'UCA':'S', 'UCC':'S', 'UCG':'S', 'UCU':'S', 'AGU':'S', 'AGC':'S', 'CGA':'R', 'CGC':'R', 'CGG':'R', 'CGU':'R', 'AGA':'R', 'AGG':'R', 'GUA':'V', 'GUU':'V', 'GUC':'V', 'GUG':'V', 'GCA':'A', 'GCC':'A', 'GCG':'A', 'GCU':'A', 'GAU':'D', 'GAC':'D', 'GAG':'E', 'GAA':'E', 'GGG':'G', 'GGA':'G', 'GGC':'G', 'GGU':'G', 'UGA':'stop', 'UAA':'stop', 'UAG':'stop'}\n",
    "    P = []\n",
    "    for x in L:\n",
    "        if gc[x] == 'stop':\n",
    "            break\n",
    "        else:\n",
    "            P.append(gc[x])\n",
    "    return ''.join(P)\n",
    "\n",
    "def read_fasta(file):\n",
    "    NL = []\n",
    "    L = file.read().split('>')[1:]\n",
    "    for i in range(len(L)):\n",
    "        new = L[i].split('\\n', 1)\n",
    "        seq = new[1].replace('\\n', '')\n",
    "        NL.append(seq)\n",
    "    return (NL)\n",
    "    \n",
    "    \n",
    "with open ('rosalind_splc.fasta', 'r') as f:\n",
    "    seq = read_fasta(f)\n",
    "    new = remove_introns(seq[0], seq[1:])\n",
    "    exs = new.replace('T', 'U')\n",
    "    protein = find_prot(exs)\n",
    "    print (protein)\n",
    "\n",
    "    \n",
    "    "
   ]
  }
 ],
 "metadata": {
  "kernelspec": {
   "display_name": "Python 3",
   "language": "python",
   "name": "python3"
  },
  "language_info": {
   "codemirror_mode": {
    "name": "ipython",
    "version": 3
   },
   "file_extension": ".py",
   "mimetype": "text/x-python",
   "name": "python",
   "nbconvert_exporter": "python",
   "pygments_lexer": "ipython3",
   "version": "3.8.3"
  }
 },
 "nbformat": 4,
 "nbformat_minor": 4
}
