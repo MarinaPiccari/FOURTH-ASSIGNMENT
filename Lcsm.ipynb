{
 "cells": [
  {
   "cell_type": "markdown",
   "metadata": {},
   "source": [
    "## Lcsm\n",
    "##### Marina Piccari\n",
    "#### 1904900"
   ]
  },
  {
   "cell_type": "code",
   "execution_count": 18,
   "metadata": {},
   "outputs": [
    {
     "name": "stdout",
     "output_type": "stream",
     "text": [
      "CTCAGTGGATACCCGAAAGTGGCCCGCCATCATCCGTTGCGATGGTGGGGGATTCACACTCGTCAATTTCATGATAAGGGGACACGTCTACGAATGAAATACACTTGTCCTGACACTGAGTGCCAATGTGTTCCGGTGAGTCTTTGTGCTTGCACGCTTGCACCGCTCCTACCACCATGATGTATGCTATCGGCTCATCACCAGTGTT\n"
     ]
    }
   ],
   "source": [
    "def read_fasta(file):\n",
    "    NL = []\n",
    "    L = file.read().split('>')[1:]\n",
    "    for i in range(len(L)):\n",
    "        new = L[i].split('\\n', 1)\n",
    "        seq = new[1].replace('\\n', '')\n",
    "        NL.append(seq)\n",
    "    return (NL)\n",
    "\n",
    "with open ('rosalind_lcsm.fasta', 'r') as f:\n",
    "    seq = read_fasta(f)\n",
    "    L = []\n",
    "    m = len(min(seq, key=len))\n",
    "    for i in range(len(seq[0])):\n",
    "        for j in range(i, len(seq[0])):\n",
    "            if (j+1-i) <= m:\n",
    "                s = True\n",
    "                for x in seq[1:]:\n",
    "                    if seq[0][i:j+1] not in x:\n",
    "                        s = False\n",
    "                if s == True:\n",
    "                    L.append(seq[0][i:j +1])\n",
    "\n",
    "    print (max(L, key=len))\n"
   ]
  }
 ],
 "metadata": {
  "kernelspec": {
   "display_name": "Python 3",
   "language": "python",
   "name": "python3"
  },
  "language_info": {
   "codemirror_mode": {
    "name": "ipython",
    "version": 3
   },
   "file_extension": ".py",
   "mimetype": "text/x-python",
   "name": "python",
   "nbconvert_exporter": "python",
   "pygments_lexer": "ipython3",
   "version": "3.8.3"
  }
 },
 "nbformat": 4,
 "nbformat_minor": 4
}
