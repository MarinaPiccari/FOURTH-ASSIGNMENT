{
 "cells": [
  {
   "cell_type": "markdown",
   "metadata": {},
   "source": [
    "## GC content\n",
    "##### Marina Piccari\n",
    "#### 1904900"
   ]
  },
  {
   "cell_type": "code",
   "execution_count": 30,
   "metadata": {},
   "outputs": [
    {
     "name": "stdout",
     "output_type": "stream",
     "text": [
      "Rosalind_6861\n",
      "51.68776371308017\n"
     ]
    }
   ],
   "source": [
    "def read_fasta(file):\n",
    "    NL = []\n",
    "    L = file.read().split('>')[1:]        \n",
    "    for i in range(len(L)):\n",
    "        new = L[i].split('\\n', 1)\n",
    "        ID = new[0].replace('\\n', '')\n",
    "        seq = new[1].replace('\\n', '')\n",
    "        NL.append(ID)\n",
    "        NL.append(seq)        \n",
    "    return (NL)\n",
    "\n",
    "with open ('rosalind_gc.fasta', 'r') as f:\n",
    "    L = read_fasta(f)\n",
    "    P = []\n",
    "    for i in range(len(L)):\n",
    "        if i%2 != 0:\n",
    "            c = 0\n",
    "            l = len(L[i])\n",
    "            for ch in L[i]:\n",
    "                if ch == 'C' or ch == 'G':\n",
    "                    c += 1\n",
    "            p = (c/l)*100\n",
    "            P.append(p)\n",
    "    print (L[P.index(max(P))*2], max(P), sep = '\\n')"
   ]
  }
 ],
 "metadata": {
  "kernelspec": {
   "display_name": "Python 3",
   "language": "python",
   "name": "python3"
  },
  "language_info": {
   "codemirror_mode": {
    "name": "ipython",
    "version": 3
   },
   "file_extension": ".py",
   "mimetype": "text/x-python",
   "name": "python",
   "nbconvert_exporter": "python",
   "pygments_lexer": "ipython3",
   "version": "3.8.3"
  }
 },
 "nbformat": 4,
 "nbformat_minor": 4
}
